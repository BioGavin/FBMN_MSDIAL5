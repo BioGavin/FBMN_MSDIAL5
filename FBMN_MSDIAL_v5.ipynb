{
 "cells": [
  {
   "cell_type": "code",
   "execution_count": 1,
   "metadata": {
    "tags": []
   },
   "outputs": [],
   "source": [
    "import msdial5_formatter"
   ]
  },
  {
   "cell_type": "code",
   "execution_count": 5,
   "metadata": {
    "tags": []
   },
   "outputs": [],
   "source": [
    "# Example usage\n",
    "# Upload your files (open the folder icon on the left and drag and drop)\n",
    "# and change the filename below | keep the quotes for the variable\n",
    "\n",
    "mgf_filename = \"Mgf_2024_01_17_15_46_40_AlignmentResult_2024_01_17_14_46_28_t.mgf\"\n",
    "msdial5_formatter.convert_mgf(mgf_filename,\n",
    "                        mgf_filename[:-4]+\"_converted.mgf\")\n"
   ]
  },
  {
   "cell_type": "code",
   "execution_count": 7,
   "metadata": {
    "tags": []
   },
   "outputs": [],
   "source": [
    "# Upload your files and change the filename | keep the quotes for the variable\n",
    "\n",
    "filename = \"Height_0_2024_01_17_15_46_14.txt\"\n",
    "msdial5_formatter.convert_to_feature_csv(filename,\n",
    "                        filename[:-4]+\"_converted.csv\")"
   ]
  }
 ],
 "metadata": {
  "kernelspec": {
   "display_name": "Python 3 (ipykernel)",
   "language": "python",
   "name": "python3"
  },
  "language_info": {
   "codemirror_mode": {
    "name": "ipython",
    "version": 3
   },
   "file_extension": ".py",
   "mimetype": "text/x-python",
   "name": "python",
   "nbconvert_exporter": "python",
   "pygments_lexer": "ipython3",
   "version": "3.10.12"
  }
 },
 "nbformat": 4,
 "nbformat_minor": 4
}
